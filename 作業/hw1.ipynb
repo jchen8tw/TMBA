{
 "cells": [
  {
   "cell_type": "code",
   "execution_count": null,
   "metadata": {},
   "outputs": [],
   "source": []
  }
 ],
 "metadata": {
  "kernelspec": {
   "display_name": "Python 3.10.4 ('quant')",
   "language": "python",
   "name": "python3"
  },
  "language_info": {
   "name": "python",
   "version": "3.10.4"
  },
  "orig_nbformat": 4,
  "vscode": {
   "interpreter": {
    "hash": "aeff7605e8aaa3a543c2532894d8975288e1529d6e790cbbf5ede10ea2bd228d"
   }
  }
 },
 "nbformat": 4,
 "nbformat_minor": 2
}
